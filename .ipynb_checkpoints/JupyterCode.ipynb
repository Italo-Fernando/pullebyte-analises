{
 "cells": [
  {
   "cell_type": "code",
   "execution_count": 2,
   "id": "fa5b95d5-305e-40f6-bd5e-2dd5e9c37e2e",
   "metadata": {
    "scrolled": true
   },
   "outputs": [
    {
     "data": {
      "text/html": [
       "<div>\n",
       "<style scoped>\n",
       "    .dataframe tbody tr th:only-of-type {\n",
       "        vertical-align: middle;\n",
       "    }\n",
       "\n",
       "    .dataframe tbody tr th {\n",
       "        vertical-align: top;\n",
       "    }\n",
       "\n",
       "    .dataframe thead th {\n",
       "        text-align: right;\n",
       "    }\n",
       "</style>\n",
       "<table border=\"1\" class=\"dataframe\">\n",
       "  <thead>\n",
       "    <tr style=\"text-align: right;\">\n",
       "      <th></th>\n",
       "      <th>player_name</th>\n",
       "      <th>club</th>\n",
       "      <th>position_keyStats</th>\n",
       "      <th>minutes_played</th>\n",
       "      <th>match_played_keyStats</th>\n",
       "      <th>goals_goalkepping</th>\n",
       "      <th>assists_keyStats</th>\n",
       "      <th>distance_covered</th>\n",
       "      <th>club_id</th>\n",
       "      <th>club_code</th>\n",
       "      <th>...</th>\n",
       "      <th>serial_distribuicao</th>\n",
       "      <th>position</th>\n",
       "      <th>pass_accuracy</th>\n",
       "      <th>pass_attempted</th>\n",
       "      <th>pass_completed</th>\n",
       "      <th>cross_accuracy</th>\n",
       "      <th>cross_attempted</th>\n",
       "      <th>cross_complted</th>\n",
       "      <th>freekicks_taken</th>\n",
       "      <th>match_played</th>\n",
       "    </tr>\n",
       "  </thead>\n",
       "  <tbody>\n",
       "    <tr>\n",
       "      <th>0</th>\n",
       "      <td>Courtois</td>\n",
       "      <td>real madrid</td>\n",
       "      <td>Goalkeeper</td>\n",
       "      <td>1230</td>\n",
       "      <td>13</td>\n",
       "      <td>0</td>\n",
       "      <td>0</td>\n",
       "      <td>64.2</td>\n",
       "      <td>418.0</td>\n",
       "      <td>real-madrid</td>\n",
       "      <td>...</td>\n",
       "      <td>447</td>\n",
       "      <td>Goalkeeper</td>\n",
       "      <td>76.7</td>\n",
       "      <td>483.0</td>\n",
       "      <td>365.0</td>\n",
       "      <td>0.0</td>\n",
       "      <td>0.0</td>\n",
       "      <td>0.0</td>\n",
       "      <td>27.0</td>\n",
       "      <td>13.0</td>\n",
       "    </tr>\n",
       "    <tr>\n",
       "      <th>1</th>\n",
       "      <td>Vinícius Júnior</td>\n",
       "      <td>real madrid</td>\n",
       "      <td>Forward</td>\n",
       "      <td>1199</td>\n",
       "      <td>13</td>\n",
       "      <td>4</td>\n",
       "      <td>6</td>\n",
       "      <td>133.0</td>\n",
       "      <td>418.0</td>\n",
       "      <td>real-madrid</td>\n",
       "      <td>...</td>\n",
       "      <td>304</td>\n",
       "      <td>Forward</td>\n",
       "      <td>83.1</td>\n",
       "      <td>451.0</td>\n",
       "      <td>377.0</td>\n",
       "      <td>31.0</td>\n",
       "      <td>19.0</td>\n",
       "      <td>6.0</td>\n",
       "      <td>0.0</td>\n",
       "      <td>13.0</td>\n",
       "    </tr>\n",
       "    <tr>\n",
       "      <th>2</th>\n",
       "      <td>Benzema</td>\n",
       "      <td>real madrid</td>\n",
       "      <td>Forward</td>\n",
       "      <td>1106</td>\n",
       "      <td>12</td>\n",
       "      <td>15</td>\n",
       "      <td>1</td>\n",
       "      <td>121.5</td>\n",
       "      <td>418.0</td>\n",
       "      <td>real-madrid</td>\n",
       "      <td>...</td>\n",
       "      <td>304</td>\n",
       "      <td>Forward</td>\n",
       "      <td>83.1</td>\n",
       "      <td>523.0</td>\n",
       "      <td>433.0</td>\n",
       "      <td>20.0</td>\n",
       "      <td>10.0</td>\n",
       "      <td>2.0</td>\n",
       "      <td>4.0</td>\n",
       "      <td>12.0</td>\n",
       "    </tr>\n",
       "    <tr>\n",
       "      <th>3</th>\n",
       "      <td>Modrić</td>\n",
       "      <td>real madrid</td>\n",
       "      <td>Midfielder</td>\n",
       "      <td>1077</td>\n",
       "      <td>13</td>\n",
       "      <td>0</td>\n",
       "      <td>4</td>\n",
       "      <td>124.5</td>\n",
       "      <td>418.0</td>\n",
       "      <td>real-madrid</td>\n",
       "      <td>...</td>\n",
       "      <td>106</td>\n",
       "      <td>Midfielder</td>\n",
       "      <td>89.8</td>\n",
       "      <td>799.0</td>\n",
       "      <td>723.0</td>\n",
       "      <td>25.0</td>\n",
       "      <td>12.0</td>\n",
       "      <td>3.0</td>\n",
       "      <td>26.0</td>\n",
       "      <td>13.0</td>\n",
       "    </tr>\n",
       "    <tr>\n",
       "      <th>4</th>\n",
       "      <td>Éder Militão</td>\n",
       "      <td>real madrid</td>\n",
       "      <td>Defender</td>\n",
       "      <td>1076</td>\n",
       "      <td>12</td>\n",
       "      <td>0</td>\n",
       "      <td>0</td>\n",
       "      <td>110.4</td>\n",
       "      <td>418.0</td>\n",
       "      <td>real-madrid</td>\n",
       "      <td>...</td>\n",
       "      <td>158</td>\n",
       "      <td>Defender</td>\n",
       "      <td>87.5</td>\n",
       "      <td>643.0</td>\n",
       "      <td>563.0</td>\n",
       "      <td>0.0</td>\n",
       "      <td>2.0</td>\n",
       "      <td>0.0</td>\n",
       "      <td>17.0</td>\n",
       "      <td>12.0</td>\n",
       "    </tr>\n",
       "    <tr>\n",
       "      <th>...</th>\n",
       "      <td>...</td>\n",
       "      <td>...</td>\n",
       "      <td>...</td>\n",
       "      <td>...</td>\n",
       "      <td>...</td>\n",
       "      <td>...</td>\n",
       "      <td>...</td>\n",
       "      <td>...</td>\n",
       "      <td>...</td>\n",
       "      <td>...</td>\n",
       "      <td>...</td>\n",
       "      <td>...</td>\n",
       "      <td>...</td>\n",
       "      <td>...</td>\n",
       "      <td>...</td>\n",
       "      <td>...</td>\n",
       "      <td>...</td>\n",
       "      <td>...</td>\n",
       "      <td>...</td>\n",
       "      <td>...</td>\n",
       "      <td>...</td>\n",
       "    </tr>\n",
       "    <tr>\n",
       "      <th>742</th>\n",
       "      <td>Gil Dias</td>\n",
       "      <td>benfica</td>\n",
       "      <td>Midfielder</td>\n",
       "      <td>1</td>\n",
       "      <td>1</td>\n",
       "      <td>0</td>\n",
       "      <td>0</td>\n",
       "      <td>0.7</td>\n",
       "      <td>294.0</td>\n",
       "      <td>benfica-lissabon</td>\n",
       "      <td>...</td>\n",
       "      <td>NaN</td>\n",
       "      <td>NaN</td>\n",
       "      <td>NaN</td>\n",
       "      <td>NaN</td>\n",
       "      <td>NaN</td>\n",
       "      <td>NaN</td>\n",
       "      <td>NaN</td>\n",
       "      <td>NaN</td>\n",
       "      <td>NaN</td>\n",
       "      <td>NaN</td>\n",
       "    </tr>\n",
       "    <tr>\n",
       "      <th>743</th>\n",
       "      <td>Rodrigo Ribeiro</td>\n",
       "      <td>sporting cp</td>\n",
       "      <td>Forward</td>\n",
       "      <td>1</td>\n",
       "      <td>1</td>\n",
       "      <td>0</td>\n",
       "      <td>0</td>\n",
       "      <td>0.7</td>\n",
       "      <td>336.0</td>\n",
       "      <td>sporting-lissabon</td>\n",
       "      <td>...</td>\n",
       "      <td>NaN</td>\n",
       "      <td>NaN</td>\n",
       "      <td>NaN</td>\n",
       "      <td>NaN</td>\n",
       "      <td>NaN</td>\n",
       "      <td>NaN</td>\n",
       "      <td>NaN</td>\n",
       "      <td>NaN</td>\n",
       "      <td>NaN</td>\n",
       "      <td>NaN</td>\n",
       "    </tr>\n",
       "    <tr>\n",
       "      <th>744</th>\n",
       "      <td>Cojocari</td>\n",
       "      <td>sheriff</td>\n",
       "      <td>Defender</td>\n",
       "      <td>1</td>\n",
       "      <td>1</td>\n",
       "      <td>0</td>\n",
       "      <td>0</td>\n",
       "      <td>0.5</td>\n",
       "      <td>1005.0</td>\n",
       "      <td>None</td>\n",
       "      <td>...</td>\n",
       "      <td>NaN</td>\n",
       "      <td>NaN</td>\n",
       "      <td>NaN</td>\n",
       "      <td>NaN</td>\n",
       "      <td>NaN</td>\n",
       "      <td>NaN</td>\n",
       "      <td>NaN</td>\n",
       "      <td>NaN</td>\n",
       "      <td>NaN</td>\n",
       "      <td>NaN</td>\n",
       "    </tr>\n",
       "    <tr>\n",
       "      <th>745</th>\n",
       "      <td>Maouassa</td>\n",
       "      <td>club brugge</td>\n",
       "      <td>Defender</td>\n",
       "      <td>1</td>\n",
       "      <td>1</td>\n",
       "      <td>0</td>\n",
       "      <td>0</td>\n",
       "      <td>0.2</td>\n",
       "      <td>2282.0</td>\n",
       "      <td>fc-brugge</td>\n",
       "      <td>...</td>\n",
       "      <td>NaN</td>\n",
       "      <td>NaN</td>\n",
       "      <td>NaN</td>\n",
       "      <td>NaN</td>\n",
       "      <td>NaN</td>\n",
       "      <td>NaN</td>\n",
       "      <td>NaN</td>\n",
       "      <td>NaN</td>\n",
       "      <td>NaN</td>\n",
       "      <td>NaN</td>\n",
       "    </tr>\n",
       "    <tr>\n",
       "      <th>746</th>\n",
       "      <td>Zesiger</td>\n",
       "      <td>young boys</td>\n",
       "      <td>Defender</td>\n",
       "      <td>1</td>\n",
       "      <td>1</td>\n",
       "      <td>0</td>\n",
       "      <td>0</td>\n",
       "      <td>-</td>\n",
       "      <td>1006.0</td>\n",
       "      <td>None</td>\n",
       "      <td>...</td>\n",
       "      <td>NaN</td>\n",
       "      <td>NaN</td>\n",
       "      <td>NaN</td>\n",
       "      <td>NaN</td>\n",
       "      <td>NaN</td>\n",
       "      <td>NaN</td>\n",
       "      <td>NaN</td>\n",
       "      <td>NaN</td>\n",
       "      <td>NaN</td>\n",
       "      <td>NaN</td>\n",
       "    </tr>\n",
       "  </tbody>\n",
       "</table>\n",
       "<p>747 rows × 73 columns</p>\n",
       "</div>"
      ],
      "text/plain": [
       "         player_name         club position_keyStats  minutes_played  \\\n",
       "0           Courtois  real madrid        Goalkeeper            1230   \n",
       "1    Vinícius Júnior  real madrid           Forward            1199   \n",
       "2            Benzema  real madrid           Forward            1106   \n",
       "3             Modrić  real madrid        Midfielder            1077   \n",
       "4       Éder Militão  real madrid          Defender            1076   \n",
       "..               ...          ...               ...             ...   \n",
       "742         Gil Dias      benfica        Midfielder               1   \n",
       "743  Rodrigo Ribeiro  sporting cp           Forward               1   \n",
       "744         Cojocari      sheriff          Defender               1   \n",
       "745         Maouassa  club brugge          Defender               1   \n",
       "746          Zesiger   young boys          Defender               1   \n",
       "\n",
       "     match_played_keyStats  goals_goalkepping  assists_keyStats  \\\n",
       "0                       13                  0                 0   \n",
       "1                       13                  4                 6   \n",
       "2                       12                 15                 1   \n",
       "3                       13                  0                 4   \n",
       "4                       12                  0                 0   \n",
       "..                     ...                ...               ...   \n",
       "742                      1                  0                 0   \n",
       "743                      1                  0                 0   \n",
       "744                      1                  0                 0   \n",
       "745                      1                  0                 0   \n",
       "746                      1                  0                 0   \n",
       "\n",
       "    distance_covered  club_id          club_code  ... serial_distribuicao  \\\n",
       "0               64.2    418.0        real-madrid  ...                 447   \n",
       "1              133.0    418.0        real-madrid  ...                 304   \n",
       "2              121.5    418.0        real-madrid  ...                 304   \n",
       "3              124.5    418.0        real-madrid  ...                 106   \n",
       "4              110.4    418.0        real-madrid  ...                 158   \n",
       "..               ...      ...                ...  ...                 ...   \n",
       "742              0.7    294.0   benfica-lissabon  ...                 NaN   \n",
       "743              0.7    336.0  sporting-lissabon  ...                 NaN   \n",
       "744              0.5   1005.0               None  ...                 NaN   \n",
       "745              0.2   2282.0          fc-brugge  ...                 NaN   \n",
       "746                -   1006.0               None  ...                 NaN   \n",
       "\n",
       "       position  pass_accuracy  pass_attempted  pass_completed cross_accuracy  \\\n",
       "0    Goalkeeper           76.7           483.0           365.0            0.0   \n",
       "1       Forward           83.1           451.0           377.0           31.0   \n",
       "2       Forward           83.1           523.0           433.0           20.0   \n",
       "3    Midfielder           89.8           799.0           723.0           25.0   \n",
       "4      Defender           87.5           643.0           563.0            0.0   \n",
       "..          ...            ...             ...             ...            ...   \n",
       "742         NaN            NaN             NaN             NaN            NaN   \n",
       "743         NaN            NaN             NaN             NaN            NaN   \n",
       "744         NaN            NaN             NaN             NaN            NaN   \n",
       "745         NaN            NaN             NaN             NaN            NaN   \n",
       "746         NaN            NaN             NaN             NaN            NaN   \n",
       "\n",
       "     cross_attempted cross_complted  freekicks_taken match_played  \n",
       "0                0.0            0.0             27.0         13.0  \n",
       "1               19.0            6.0              0.0         13.0  \n",
       "2               10.0            2.0              4.0         12.0  \n",
       "3               12.0            3.0             26.0         13.0  \n",
       "4                2.0            0.0             17.0         12.0  \n",
       "..               ...            ...              ...          ...  \n",
       "742              NaN            NaN              NaN          NaN  \n",
       "743              NaN            NaN              NaN          NaN  \n",
       "744              NaN            NaN              NaN          NaN  \n",
       "745              NaN            NaN              NaN          NaN  \n",
       "746              NaN            NaN              NaN          NaN  \n",
       "\n",
       "[747 rows x 73 columns]"
      ]
     },
     "execution_count": 2,
     "metadata": {},
     "output_type": "execute_result"
    }
   ],
   "source": [
    "import pandas as pd\n",
    "\n",
    "keyStats_df = pd.read_parquet(r\"C:\\Users\\filipe\\Desktop\\Data sets\\KeyStates+club.parquet\")\n",
    "attacking_df = pd.read_parquet(r\"C:\\Users\\filipe\\Desktop\\Data sets\\attacking.parquet\")\n",
    "defending_df = pd.read_parquet(r\"C:\\Users\\filipe\\Desktop\\Data sets\\defending.parquet\")\n",
    "attempts_df = pd.read_parquet(r\"C:\\Users\\filipe\\Desktop\\Data sets\\attempts.parquet\")\n",
    "goalkepping_df = pd.read_parquet(r\"C:\\Users\\filipe\\Desktop\\Data sets\\goalkepping.parquet\")\n",
    "goals_df = pd.read_parquet(r\"C:\\Users\\filipe\\Desktop\\Data sets\\goals.parquet\")\n",
    "distribution_df = pd.read_parquet(r\"C:\\Users\\filipe\\Desktop\\Data sets\\distribution.parquet\")\n",
    "\n",
    "keyStats_df['club'] = keyStats_df['club'].str.lower()\n",
    "attacking_df['club'] = attacking_df['club'].str.lower()\n",
    "defending_df['club'] = defending_df['club'].str.lower()\n",
    "attempts_df['club'] = attempts_df['club'].str.lower()\n",
    "goalkepping_df['club'] = goalkepping_df['club'].str.lower()\n",
    "goals_df['club'] = goals_df['club'].str.lower()\n",
    "distribution_df['club'] = distribution_df['club'].str.lower()\n",
    "\n",
    "jogadores_ataque_df = pd.merge(keyStats_df, attacking_df, on=['player_name', 'club'], how='left', suffixes=('_keyStats', '_attacking'))\n",
    "jogadores_defesa_df = pd.merge(jogadores_ataque_df, defending_df, on=['player_name', 'club'], how='left', suffixes=('_ataque', '_defesa'))\n",
    "jogadores_attempts_df = pd.merge(jogadores_defesa_df, attempts_df, on=['player_name', 'club'], how='left', suffixes=('_defesa', '_tentativas'))\n",
    "jogadores_goalkepping_df = pd.merge(jogadores_attempts_df, goalkepping_df, on=['player_name', 'club'], how='left', suffixes=('_tentativas', '_goalkepping'))\n",
    "jogadores_goals_df = pd.merge(jogadores_goalkepping_df, goals_df, on=['player_name', 'club'], how='left', suffixes=('_goalkepping', '_gols'))\n",
    "time_completo_df = pd.merge(jogadores_goals_df, distribution_df, on=['player_name', 'club'], how='left', suffixes=('_gols', '_distribuicao'))\n",
    "\n",
    "club_id_map = {\n",
    "    'man. city': 281,\n",
    "    'losc': 1082,\n",
    "    'inter': 46,\n",
    "    'salzburg': 1004,\n",
    "    'sheriff': 1005,\n",
    "    'young boys': 1006,\n",
    "    'malmo': 1007\n",
    "}\n",
    "\n",
    "time_completo_df['club_id'] = time_completo_df.apply(\n",
    "    lambda row: club_id_map.get(row['club'], row['club_id']), axis=1\n",
    ")\n",
    "\n",
    "real_madrid_df = time_completo_df[time_completo_df['club_id'] == 418]\n",
    "liverpool_df = time_completo_df[time_completo_df['club_id'] == 31]\n",
    "villarreal_df = time_completo_df[time_completo_df['club_id'] == 1050]\n",
    "man_city_df = time_completo_df[time_completo_df['club_id'] == 281]\n",
    "benfica_df = time_completo_df[time_completo_df['club_id'] == 294]\n",
    "atletico_df = time_completo_df[time_completo_df['club_id'] == 13]\n",
    "bayern_df = time_completo_df[time_completo_df['club_id'] == 27]\n",
    "chelsea_df = time_completo_df[time_completo_df['club_id'] == 631]\n",
    "losc_df = time_completo_df[time_completo_df['club_id'] == 1082]\n",
    "inter_df = time_completo_df[time_completo_df['club_id'] == 46]\n",
    "salzburg_df = time_completo_df[time_completo_df['club_id'] == 1004]\n",
    "ajax_df = time_completo_df[time_completo_df['club_id'] == 610]\n",
    "paris_df = time_completo_df[time_completo_df['club_id'] == 583]\n",
    "sporting_cp_df = time_completo_df[time_completo_df['club_id'] == 336]\n",
    "juvents_df = time_completo_df[time_completo_df['club_id'] == 506]\n",
    "man_united_df = time_completo_df[time_completo_df['club_id'] == 1519]\n",
    "barcelona_df = time_completo_df[time_completo_df['club_id'] == 131]\n",
    "club_brugge_df = time_completo_df[time_completo_df['club_id'] == 2282]\n",
    "sheriff_df = time_completo_df[time_completo_df['club_id'] == 1005]\n",
    "wolfsburg_df = time_completo_df[time_completo_df['club_id'] == 82]\n",
    "dynamo_kyiv_df = time_completo_df[time_completo_df['club_id'] == 338]\n",
    "sevilla_df = time_completo_df[time_completo_df['club_id'] == 368]\n",
    "shakhtar_donetsk_df = time_completo_df[time_completo_df['club_id'] == 660]\n",
    "zenit_df = time_completo_df[time_completo_df['club_id'] == 964]\n",
    "porto_df = time_completo_df[time_completo_df['club_id'] == 720]\n",
    "milan_df = time_completo_df[time_completo_df['club_id'] == 5]\n",
    "dortmund_df = time_completo_df[time_completo_df['club_id'] == 16]\n",
    "young_boys_df = time_completo_df[time_completo_df['club_id'] == 1006]\n",
    "malmo_df = time_completo_df[time_completo_df['club_id'] == 1007]\n",
    "leipzig = time_completo_df[time_completo_df['club_id'] == 23826]\n",
    "besiktas_df = time_completo_df[time_completo_df['club_id'] == 114]\n",
    "atlanta_df = time_completo_df[time_completo_df['club_id'] == 800]\n",
    "\n",
    "club_data = {\n",
    "    'Real Madrid': real_madrid_df,\n",
    "    'Liverpool': liverpool_df,\n",
    "    'Villarreal': villarreal_df,\n",
    "    'Man City': man_city_df,\n",
    "    'Benfica': benfica_df,\n",
    "    'Atlético Madrid': atletico_df,\n",
    "    'Bayern Munich': bayern_df,\n",
    "    'Chelsea': chelsea_df,\n",
    "    'LOSC': losc_df,\n",
    "    'Inter': inter_df,\n",
    "    'Salzburg': salzburg_df,\n",
    "    'Ajax': ajax_df,\n",
    "    'Paris Saint-Germain': paris_df,\n",
    "    'Sporting CP': sporting_cp_df,\n",
    "    'Juventus': juvents_df,\n",
    "    'Manchester United': man_united_df,\n",
    "    'Barcelona': barcelona_df,\n",
    "    'Club Brugge': club_brugge_df,\n",
    "    'Sheriff': sheriff_df,\n",
    "    'Wolfsburg': wolfsburg_df,\n",
    "    'Dynamo Kyiv': dynamo_kyiv_df,\n",
    "    'Sevilla': sevilla_df,\n",
    "    'Shakhtar Donetsk': shakhtar_donetsk_df,\n",
    "    'Zenit': zenit_df,\n",
    "    'Porto': porto_df,\n",
    "    'Milan': milan_df,\n",
    "    'Dortmund': dortmund_df,\n",
    "    'Young Boys': young_boys_df,\n",
    "    'Malmo': malmo_df,\n",
    "    'RB Leipzig': leipzig,\n",
    "    'Besiktas': besiktas_df,\n",
    "    'Atalanta': atlanta_df\n",
    "}\n",
    "\n",
    "for name, df in club_data.items():\n",
    "    club_data[name] = df.drop_duplicates(subset=['player_name'])\n",
    "\n",
    "time_completo_df\n",
    "# df_exibir = club_data['Sporting CP']\n",
    "# df_exibir"
   ]
  },
  {
   "cell_type": "code",
   "execution_count": 3,
   "id": "619e9e0e-8609-44c5-bf77-173becab8f2e",
   "metadata": {},
   "outputs": [
    {
     "data": {
      "application/vnd.plotly.v1+json": {
       "config": {
        "plotlyServerURL": "https://plot.ly"
       },
       "data": [
        {
         "alignmentgroup": "True",
         "hovertemplate": "Times=%{x}<br>Quantidade de Goals=%{marker.color}<extra></extra>",
         "legendgroup": "",
         "marker": {
          "color": [
           28,
           28,
           20,
           28,
           13,
           9,
           30,
           21,
           8,
           9,
           10,
           21,
           15,
           14,
           11,
           12,
           2,
           5,
           7,
           5,
           1,
           5,
           2,
           9,
           2,
           5,
           10,
           7,
           1,
           15,
           3,
           12
          ],
          "coloraxis": "coloraxis",
          "pattern": {
           "shape": ""
          }
         },
         "name": "",
         "offsetgroup": "",
         "orientation": "v",
         "showlegend": false,
         "textposition": "auto",
         "type": "bar",
         "x": [
          "Real Madrid",
          "Liverpool",
          "Villarreal",
          "Man City",
          "Benfica",
          "Atlético Madrid",
          "Bayern Munich",
          "Chelsea",
          "LOSC",
          "Inter",
          "Salzburg",
          "Ajax",
          "Paris Saint-Germain",
          "Sporting CP",
          "Juventus",
          "Manchester United",
          "Barcelona",
          "Club Brugge",
          "Sheriff",
          "Wolfsburg",
          "Dynamo Kyiv",
          "Sevilla",
          "Shakhtar Donetsk",
          "Zenit",
          "Porto",
          "Milan",
          "Dortmund",
          "Young Boys",
          "Malmo",
          "RB Leipzig",
          "Besiktas",
          "Atalanta"
         ],
         "xaxis": "x",
         "y": [
          28,
          28,
          20,
          28,
          13,
          9,
          30,
          21,
          8,
          9,
          10,
          21,
          15,
          14,
          11,
          12,
          2,
          5,
          7,
          5,
          1,
          5,
          2,
          9,
          2,
          5,
          10,
          7,
          1,
          15,
          3,
          12
         ],
         "yaxis": "y"
        }
       ],
       "layout": {
        "barmode": "relative",
        "coloraxis": {
         "colorbar": {
          "title": {
           "text": "Quantidade de Goals"
          }
         },
         "colorscale": [
          [
           0,
           "rgb(255,245,235)"
          ],
          [
           0.125,
           "rgb(254,230,206)"
          ],
          [
           0.25,
           "rgb(253,208,162)"
          ],
          [
           0.375,
           "rgb(253,174,107)"
          ],
          [
           0.5,
           "rgb(253,141,60)"
          ],
          [
           0.625,
           "rgb(241,105,19)"
          ],
          [
           0.75,
           "rgb(217,72,1)"
          ],
          [
           0.875,
           "rgb(166,54,3)"
          ],
          [
           1,
           "rgb(127,39,4)"
          ]
         ]
        },
        "font": {
         "size": 12
        },
        "height": 700,
        "legend": {
         "tracegroupgap": 0
        },
        "template": {
         "data": {
          "bar": [
           {
            "error_x": {
             "color": "#2a3f5f"
            },
            "error_y": {
             "color": "#2a3f5f"
            },
            "marker": {
             "line": {
              "color": "#E5ECF6",
              "width": 0.5
             },
             "pattern": {
              "fillmode": "overlay",
              "size": 10,
              "solidity": 0.2
             }
            },
            "type": "bar"
           }
          ],
          "barpolar": [
           {
            "marker": {
             "line": {
              "color": "#E5ECF6",
              "width": 0.5
             },
             "pattern": {
              "fillmode": "overlay",
              "size": 10,
              "solidity": 0.2
             }
            },
            "type": "barpolar"
           }
          ],
          "carpet": [
           {
            "aaxis": {
             "endlinecolor": "#2a3f5f",
             "gridcolor": "white",
             "linecolor": "white",
             "minorgridcolor": "white",
             "startlinecolor": "#2a3f5f"
            },
            "baxis": {
             "endlinecolor": "#2a3f5f",
             "gridcolor": "white",
             "linecolor": "white",
             "minorgridcolor": "white",
             "startlinecolor": "#2a3f5f"
            },
            "type": "carpet"
           }
          ],
          "choropleth": [
           {
            "colorbar": {
             "outlinewidth": 0,
             "ticks": ""
            },
            "type": "choropleth"
           }
          ],
          "contour": [
           {
            "colorbar": {
             "outlinewidth": 0,
             "ticks": ""
            },
            "colorscale": [
             [
              0,
              "#0d0887"
             ],
             [
              0.1111111111111111,
              "#46039f"
             ],
             [
              0.2222222222222222,
              "#7201a8"
             ],
             [
              0.3333333333333333,
              "#9c179e"
             ],
             [
              0.4444444444444444,
              "#bd3786"
             ],
             [
              0.5555555555555556,
              "#d8576b"
             ],
             [
              0.6666666666666666,
              "#ed7953"
             ],
             [
              0.7777777777777778,
              "#fb9f3a"
             ],
             [
              0.8888888888888888,
              "#fdca26"
             ],
             [
              1,
              "#f0f921"
             ]
            ],
            "type": "contour"
           }
          ],
          "contourcarpet": [
           {
            "colorbar": {
             "outlinewidth": 0,
             "ticks": ""
            },
            "type": "contourcarpet"
           }
          ],
          "heatmap": [
           {
            "colorbar": {
             "outlinewidth": 0,
             "ticks": ""
            },
            "colorscale": [
             [
              0,
              "#0d0887"
             ],
             [
              0.1111111111111111,
              "#46039f"
             ],
             [
              0.2222222222222222,
              "#7201a8"
             ],
             [
              0.3333333333333333,
              "#9c179e"
             ],
             [
              0.4444444444444444,
              "#bd3786"
             ],
             [
              0.5555555555555556,
              "#d8576b"
             ],
             [
              0.6666666666666666,
              "#ed7953"
             ],
             [
              0.7777777777777778,
              "#fb9f3a"
             ],
             [
              0.8888888888888888,
              "#fdca26"
             ],
             [
              1,
              "#f0f921"
             ]
            ],
            "type": "heatmap"
           }
          ],
          "heatmapgl": [
           {
            "colorbar": {
             "outlinewidth": 0,
             "ticks": ""
            },
            "colorscale": [
             [
              0,
              "#0d0887"
             ],
             [
              0.1111111111111111,
              "#46039f"
             ],
             [
              0.2222222222222222,
              "#7201a8"
             ],
             [
              0.3333333333333333,
              "#9c179e"
             ],
             [
              0.4444444444444444,
              "#bd3786"
             ],
             [
              0.5555555555555556,
              "#d8576b"
             ],
             [
              0.6666666666666666,
              "#ed7953"
             ],
             [
              0.7777777777777778,
              "#fb9f3a"
             ],
             [
              0.8888888888888888,
              "#fdca26"
             ],
             [
              1,
              "#f0f921"
             ]
            ],
            "type": "heatmapgl"
           }
          ],
          "histogram": [
           {
            "marker": {
             "pattern": {
              "fillmode": "overlay",
              "size": 10,
              "solidity": 0.2
             }
            },
            "type": "histogram"
           }
          ],
          "histogram2d": [
           {
            "colorbar": {
             "outlinewidth": 0,
             "ticks": ""
            },
            "colorscale": [
             [
              0,
              "#0d0887"
             ],
             [
              0.1111111111111111,
              "#46039f"
             ],
             [
              0.2222222222222222,
              "#7201a8"
             ],
             [
              0.3333333333333333,
              "#9c179e"
             ],
             [
              0.4444444444444444,
              "#bd3786"
             ],
             [
              0.5555555555555556,
              "#d8576b"
             ],
             [
              0.6666666666666666,
              "#ed7953"
             ],
             [
              0.7777777777777778,
              "#fb9f3a"
             ],
             [
              0.8888888888888888,
              "#fdca26"
             ],
             [
              1,
              "#f0f921"
             ]
            ],
            "type": "histogram2d"
           }
          ],
          "histogram2dcontour": [
           {
            "colorbar": {
             "outlinewidth": 0,
             "ticks": ""
            },
            "colorscale": [
             [
              0,
              "#0d0887"
             ],
             [
              0.1111111111111111,
              "#46039f"
             ],
             [
              0.2222222222222222,
              "#7201a8"
             ],
             [
              0.3333333333333333,
              "#9c179e"
             ],
             [
              0.4444444444444444,
              "#bd3786"
             ],
             [
              0.5555555555555556,
              "#d8576b"
             ],
             [
              0.6666666666666666,
              "#ed7953"
             ],
             [
              0.7777777777777778,
              "#fb9f3a"
             ],
             [
              0.8888888888888888,
              "#fdca26"
             ],
             [
              1,
              "#f0f921"
             ]
            ],
            "type": "histogram2dcontour"
           }
          ],
          "mesh3d": [
           {
            "colorbar": {
             "outlinewidth": 0,
             "ticks": ""
            },
            "type": "mesh3d"
           }
          ],
          "parcoords": [
           {
            "line": {
             "colorbar": {
              "outlinewidth": 0,
              "ticks": ""
             }
            },
            "type": "parcoords"
           }
          ],
          "pie": [
           {
            "automargin": true,
            "type": "pie"
           }
          ],
          "scatter": [
           {
            "fillpattern": {
             "fillmode": "overlay",
             "size": 10,
             "solidity": 0.2
            },
            "type": "scatter"
           }
          ],
          "scatter3d": [
           {
            "line": {
             "colorbar": {
              "outlinewidth": 0,
              "ticks": ""
             }
            },
            "marker": {
             "colorbar": {
              "outlinewidth": 0,
              "ticks": ""
             }
            },
            "type": "scatter3d"
           }
          ],
          "scattercarpet": [
           {
            "marker": {
             "colorbar": {
              "outlinewidth": 0,
              "ticks": ""
             }
            },
            "type": "scattercarpet"
           }
          ],
          "scattergeo": [
           {
            "marker": {
             "colorbar": {
              "outlinewidth": 0,
              "ticks": ""
             }
            },
            "type": "scattergeo"
           }
          ],
          "scattergl": [
           {
            "marker": {
             "colorbar": {
              "outlinewidth": 0,
              "ticks": ""
             }
            },
            "type": "scattergl"
           }
          ],
          "scattermapbox": [
           {
            "marker": {
             "colorbar": {
              "outlinewidth": 0,
              "ticks": ""
             }
            },
            "type": "scattermapbox"
           }
          ],
          "scatterpolar": [
           {
            "marker": {
             "colorbar": {
              "outlinewidth": 0,
              "ticks": ""
             }
            },
            "type": "scatterpolar"
           }
          ],
          "scatterpolargl": [
           {
            "marker": {
             "colorbar": {
              "outlinewidth": 0,
              "ticks": ""
             }
            },
            "type": "scatterpolargl"
           }
          ],
          "scatterternary": [
           {
            "marker": {
             "colorbar": {
              "outlinewidth": 0,
              "ticks": ""
             }
            },
            "type": "scatterternary"
           }
          ],
          "surface": [
           {
            "colorbar": {
             "outlinewidth": 0,
             "ticks": ""
            },
            "colorscale": [
             [
              0,
              "#0d0887"
             ],
             [
              0.1111111111111111,
              "#46039f"
             ],
             [
              0.2222222222222222,
              "#7201a8"
             ],
             [
              0.3333333333333333,
              "#9c179e"
             ],
             [
              0.4444444444444444,
              "#bd3786"
             ],
             [
              0.5555555555555556,
              "#d8576b"
             ],
             [
              0.6666666666666666,
              "#ed7953"
             ],
             [
              0.7777777777777778,
              "#fb9f3a"
             ],
             [
              0.8888888888888888,
              "#fdca26"
             ],
             [
              1,
              "#f0f921"
             ]
            ],
            "type": "surface"
           }
          ],
          "table": [
           {
            "cells": {
             "fill": {
              "color": "#EBF0F8"
             },
             "line": {
              "color": "white"
             }
            },
            "header": {
             "fill": {
              "color": "#C8D4E3"
             },
             "line": {
              "color": "white"
             }
            },
            "type": "table"
           }
          ]
         },
         "layout": {
          "annotationdefaults": {
           "arrowcolor": "#2a3f5f",
           "arrowhead": 0,
           "arrowwidth": 1
          },
          "autotypenumbers": "strict",
          "coloraxis": {
           "colorbar": {
            "outlinewidth": 0,
            "ticks": ""
           }
          },
          "colorscale": {
           "diverging": [
            [
             0,
             "#8e0152"
            ],
            [
             0.1,
             "#c51b7d"
            ],
            [
             0.2,
             "#de77ae"
            ],
            [
             0.3,
             "#f1b6da"
            ],
            [
             0.4,
             "#fde0ef"
            ],
            [
             0.5,
             "#f7f7f7"
            ],
            [
             0.6,
             "#e6f5d0"
            ],
            [
             0.7,
             "#b8e186"
            ],
            [
             0.8,
             "#7fbc41"
            ],
            [
             0.9,
             "#4d9221"
            ],
            [
             1,
             "#276419"
            ]
           ],
           "sequential": [
            [
             0,
             "#0d0887"
            ],
            [
             0.1111111111111111,
             "#46039f"
            ],
            [
             0.2222222222222222,
             "#7201a8"
            ],
            [
             0.3333333333333333,
             "#9c179e"
            ],
            [
             0.4444444444444444,
             "#bd3786"
            ],
            [
             0.5555555555555556,
             "#d8576b"
            ],
            [
             0.6666666666666666,
             "#ed7953"
            ],
            [
             0.7777777777777778,
             "#fb9f3a"
            ],
            [
             0.8888888888888888,
             "#fdca26"
            ],
            [
             1,
             "#f0f921"
            ]
           ],
           "sequentialminus": [
            [
             0,
             "#0d0887"
            ],
            [
             0.1111111111111111,
             "#46039f"
            ],
            [
             0.2222222222222222,
             "#7201a8"
            ],
            [
             0.3333333333333333,
             "#9c179e"
            ],
            [
             0.4444444444444444,
             "#bd3786"
            ],
            [
             0.5555555555555556,
             "#d8576b"
            ],
            [
             0.6666666666666666,
             "#ed7953"
            ],
            [
             0.7777777777777778,
             "#fb9f3a"
            ],
            [
             0.8888888888888888,
             "#fdca26"
            ],
            [
             1,
             "#f0f921"
            ]
           ]
          },
          "colorway": [
           "#636efa",
           "#EF553B",
           "#00cc96",
           "#ab63fa",
           "#FFA15A",
           "#19d3f3",
           "#FF6692",
           "#B6E880",
           "#FF97FF",
           "#FECB52"
          ],
          "font": {
           "color": "#2a3f5f"
          },
          "geo": {
           "bgcolor": "white",
           "lakecolor": "white",
           "landcolor": "#E5ECF6",
           "showlakes": true,
           "showland": true,
           "subunitcolor": "white"
          },
          "hoverlabel": {
           "align": "left"
          },
          "hovermode": "closest",
          "mapbox": {
           "style": "light"
          },
          "paper_bgcolor": "white",
          "plot_bgcolor": "#E5ECF6",
          "polar": {
           "angularaxis": {
            "gridcolor": "white",
            "linecolor": "white",
            "ticks": ""
           },
           "bgcolor": "#E5ECF6",
           "radialaxis": {
            "gridcolor": "white",
            "linecolor": "white",
            "ticks": ""
           }
          },
          "scene": {
           "xaxis": {
            "backgroundcolor": "#E5ECF6",
            "gridcolor": "white",
            "gridwidth": 2,
            "linecolor": "white",
            "showbackground": true,
            "ticks": "",
            "zerolinecolor": "white"
           },
           "yaxis": {
            "backgroundcolor": "#E5ECF6",
            "gridcolor": "white",
            "gridwidth": 2,
            "linecolor": "white",
            "showbackground": true,
            "ticks": "",
            "zerolinecolor": "white"
           },
           "zaxis": {
            "backgroundcolor": "#E5ECF6",
            "gridcolor": "white",
            "gridwidth": 2,
            "linecolor": "white",
            "showbackground": true,
            "ticks": "",
            "zerolinecolor": "white"
           }
          },
          "shapedefaults": {
           "line": {
            "color": "#2a3f5f"
           }
          },
          "ternary": {
           "aaxis": {
            "gridcolor": "white",
            "linecolor": "white",
            "ticks": ""
           },
           "baxis": {
            "gridcolor": "white",
            "linecolor": "white",
            "ticks": ""
           },
           "bgcolor": "#E5ECF6",
           "caxis": {
            "gridcolor": "white",
            "linecolor": "white",
            "ticks": ""
           }
          },
          "title": {
           "x": 0.05
          },
          "xaxis": {
           "automargin": true,
           "gridcolor": "white",
           "linecolor": "white",
           "ticks": "",
           "title": {
            "standoff": 15
           },
           "zerolinecolor": "white",
           "zerolinewidth": 2
          },
          "yaxis": {
           "automargin": true,
           "gridcolor": "white",
           "linecolor": "white",
           "ticks": "",
           "title": {
            "standoff": 15
           },
           "zerolinecolor": "white",
           "zerolinewidth": 2
          }
         }
        },
        "title": {
         "text": "Quantidade Total de Goals por Time",
         "x": 0.5
        },
        "width": 900,
        "xaxis": {
         "anchor": "y",
         "domain": [
          0,
          1
         ],
         "tickangle": -90,
         "title": {
          "text": "Quantidade de Goals"
         }
        },
        "yaxis": {
         "anchor": "x",
         "domain": [
          0,
          1
         ],
         "title": {
          "text": "Times"
         }
        }
       }
      }
     },
     "metadata": {},
     "output_type": "display_data"
    }
   ],
   "source": [
    "import plotly.express as px\n",
    "total_goals = {}\n",
    "\n",
    "\n",
    "for club, df in club_data.items():\n",
    "    total_goals[club] = df['goals_goalkepping'].sum()\n",
    "\n",
    "\n",
    "total_goals_df = pd.DataFrame(list(total_goals.items()), columns=['Time', 'Goals'])\n",
    "\n",
    "fig = px.bar(total_goals_df, x='Time', y='Goals',orientation='v', title='Quantidade Total de Goals por Time',\n",
    "             labels={'Time': 'Times', 'Goals': 'Quantidade de Goals'}, color='Goals',\n",
    "             color_continuous_scale='Oranges')\n",
    "\n",
    "fig.update_layout(\n",
    "    xaxis_title='Quantidade de Goals',\n",
    "    yaxis_title='Times',\n",
    "    title={'text': 'Quantidade Total de Goals por Time', 'x':0.5},\n",
    "    width=900, \n",
    "    height=700,  \n",
    "    font=dict(\n",
    "        size=12  \n",
    "    )\n",
    ")\n",
    "\n",
    "\n",
    "fig.update_layout(xaxis_tickangle=-90)\n",
    "\n",
    "fig.show()"
   ]
  }
 ],
 "metadata": {
  "kernelspec": {
   "display_name": "Python 3 (ipykernel)",
   "language": "python",
   "name": "python3"
  },
  "language_info": {
   "codemirror_mode": {
    "name": "ipython",
    "version": 3
   },
   "file_extension": ".py",
   "mimetype": "text/x-python",
   "name": "python",
   "nbconvert_exporter": "python",
   "pygments_lexer": "ipython3",
   "version": "3.11.4"
  }
 },
 "nbformat": 4,
 "nbformat_minor": 5
}
